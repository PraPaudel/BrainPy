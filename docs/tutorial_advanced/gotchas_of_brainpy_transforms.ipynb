{
 "cells": [
  {
   "cell_type": "markdown",
   "source": [
    "# Gotchas of BrainPy Transformations"
   ],
   "metadata": {
    "collapsed": false
   }
  },
  {
   "cell_type": "code",
   "execution_count": 1,
   "outputs": [
    {
     "data": {
      "text/plain": "'2.4.2'"
     },
     "execution_count": 1,
     "metadata": {},
     "output_type": "execute_result"
    }
   ],
   "source": [
    "import brainpy as bp\n",
    "import brainpy.math as bm\n",
    "\n",
    "bm.set_platform('cpu')\n",
    "\n",
    "bp.__version__"
   ],
   "metadata": {
    "collapsed": false,
    "ExecuteTime": {
     "end_time": "2023-06-20T12:45:56.203756500Z",
     "start_time": "2023-06-20T12:45:54.916721800Z"
    }
   }
  },
  {
   "cell_type": "markdown",
   "source": [
    "BrainPy provides a novel concept for object-oriented transformations based [brainpy.math.Variable](../tutorial_math/variables.ipynb). However, this kind of transformations faces several gotchas:"
   ],
   "metadata": {
    "collapsed": false
   }
  },
  {
   "cell_type": "markdown",
   "source": [
    "## 1. ``Variable`` that will be changed cannot be functional arguments"
   ],
   "metadata": {
    "collapsed": false
   }
  },
  {
   "cell_type": "markdown",
   "source": [
    "This will not work too for the new oo transformations."
   ],
   "metadata": {
    "collapsed": false
   }
  },
  {
   "cell_type": "code",
   "execution_count": 2,
   "outputs": [],
   "source": [
    "@bm.jit\n",
    "def f(a, b):\n",
    "  a.value = b\n",
    "\n",
    "a = bm.Variable(bm.ones(1))\n",
    "b = bm.Variable(bm.ones(1) * 10)"
   ],
   "metadata": {
    "collapsed": false,
    "ExecuteTime": {
     "end_time": "2023-06-20T12:45:56.252295900Z",
     "start_time": "2023-06-20T12:45:56.205728200Z"
    }
   }
  },
  {
   "cell_type": "code",
   "execution_count": 3,
   "outputs": [
    {
     "name": "stdout",
     "output_type": "stream",
     "text": [
      "a is not equal to b.\n"
     ]
    }
   ],
   "source": [
    "f(a, b)\n",
    "\n",
    "try:\n",
    "  assert bm.allclose(a, b)\n",
    "  print('a equals to b.')\n",
    "except:\n",
    "  print('a is not equal to b.')"
   ],
   "metadata": {
    "collapsed": false,
    "ExecuteTime": {
     "end_time": "2023-06-20T12:45:56.315633300Z",
     "start_time": "2023-06-20T12:45:56.252295900Z"
    }
   }
  },
  {
   "cell_type": "code",
   "execution_count": 4,
   "outputs": [
    {
     "data": {
      "text/plain": "Variable(value=Array([1.]), dtype=float32)"
     },
     "execution_count": 4,
     "metadata": {},
     "output_type": "execute_result"
    }
   ],
   "source": [
    "a"
   ],
   "metadata": {
    "collapsed": false,
    "ExecuteTime": {
     "end_time": "2023-06-20T12:45:56.315633300Z",
     "start_time": "2023-06-20T12:45:56.284488800Z"
    }
   }
  },
  {
   "cell_type": "markdown",
   "source": [
    "All ``Variable``s should be used in a global context.\n",
    "\n",
    "Instead, this works:"
   ],
   "metadata": {
    "collapsed": false
   }
  },
  {
   "cell_type": "code",
   "execution_count": 5,
   "outputs": [],
   "source": [
    "@bm.jit\n",
    "def f(b):\n",
    "  a.value = b\n",
    "\n",
    "a = bm.Variable(bm.ones(1))\n",
    "b = bm.Variable(bm.ones(1) * 10)\n",
    "\n"
   ],
   "metadata": {
    "collapsed": false,
    "ExecuteTime": {
     "end_time": "2023-06-20T12:45:56.315633300Z",
     "start_time": "2023-06-20T12:45:56.315633300Z"
    }
   }
  },
  {
   "cell_type": "code",
   "execution_count": 6,
   "outputs": [
    {
     "data": {
      "text/plain": "Variable(value=Array([10.]), dtype=float32)"
     },
     "execution_count": 6,
     "metadata": {},
     "output_type": "execute_result"
    }
   ],
   "source": [
    "f(b)\n",
    "\n",
    "a"
   ],
   "metadata": {
    "collapsed": false,
    "ExecuteTime": {
     "end_time": "2023-06-20T12:45:56.331360700Z",
     "start_time": "2023-06-20T12:45:56.315633300Z"
    }
   }
  },
  {
   "cell_type": "markdown",
   "source": [
    "## 2. Functions to be transformed are called twice"
   ],
   "metadata": {
    "collapsed": false
   }
  },
  {
   "cell_type": "markdown",
   "source": [
    "The core mechanism of any brainpy transformation is that it firsts calls the function to automatically find all ``Variable``s used in the model, and then it calls the function again to compile the model with the found ``Variable``s.\n",
    "\n",
    "Therefore, any function that the user create will be called more than twice."
   ],
   "metadata": {
    "collapsed": false
   }
  },
  {
   "cell_type": "code",
   "execution_count": 7,
   "outputs": [],
   "source": [
    "@bm.jit\n",
    "def f(inp):\n",
    "  print('calling f ...')\n",
    "  return inp\n",
    "\n",
    "@bm.jit\n",
    "def g(inp):\n",
    "  print('calling g ...')\n",
    "  return f(inp)"
   ],
   "metadata": {
    "collapsed": false,
    "ExecuteTime": {
     "end_time": "2023-06-20T12:45:56.365846100Z",
     "start_time": "2023-06-20T12:45:56.331360700Z"
    }
   }
  },
  {
   "cell_type": "markdown",
   "source": [
    "Taking the above function as an example, when we use this function, we will get:"
   ],
   "metadata": {
    "collapsed": false
   }
  },
  {
   "cell_type": "code",
   "execution_count": 8,
   "outputs": [
    {
     "name": "stdout",
     "output_type": "stream",
     "text": [
      "calling g ...\n",
      "calling f ...\n",
      "calling g ...\n",
      "calling f ...\n"
     ]
    },
    {
     "data": {
      "text/plain": "Array(1., dtype=float32, weak_type=True)"
     },
     "execution_count": 8,
     "metadata": {},
     "output_type": "execute_result"
    }
   ],
   "source": [
    "g(1.)"
   ],
   "metadata": {
    "collapsed": false,
    "ExecuteTime": {
     "end_time": "2023-06-20T12:45:56.366624400Z",
     "start_time": "2023-06-20T12:45:56.348765200Z"
    }
   }
  },
  {
   "cell_type": "markdown",
   "source": [
    "It sequentially calls ``f`` and ``g`` to infer all dynamical variables (instances of ``Variable``) used in these two functions. So we got first two lines of ``calling g ...`` and ``calling f``.\n",
    "\n",
    "Then, it compiles the two functions, so that we got next two lines of ``calling g ...`` and ``calling f``."
   ],
   "metadata": {
    "collapsed": false
   }
  },
  {
   "cell_type": "markdown",
   "source": [
    "Note that this property may get what are not correct in the Python level variables. For example, when we use a global variable to record the number of times the function called:"
   ],
   "metadata": {
    "collapsed": false
   }
  },
  {
   "cell_type": "code",
   "execution_count": 9,
   "outputs": [],
   "source": [
    "num = [0]\n",
    "\n",
    "@bm.jit\n",
    "def h(inp):\n",
    "  num[0] += 1\n",
    "  return inp"
   ],
   "metadata": {
    "collapsed": false,
    "ExecuteTime": {
     "end_time": "2023-06-20T12:45:56.381731800Z",
     "start_time": "2023-06-20T12:45:56.366624400Z"
    }
   }
  },
  {
   "cell_type": "code",
   "execution_count": 10,
   "outputs": [
    {
     "data": {
      "text/plain": "Array(1., dtype=float32, weak_type=True)"
     },
     "execution_count": 10,
     "metadata": {},
     "output_type": "execute_result"
    }
   ],
   "source": [
    "h(1.)"
   ],
   "metadata": {
    "collapsed": false,
    "ExecuteTime": {
     "end_time": "2023-06-20T12:45:56.428735400Z",
     "start_time": "2023-06-20T12:45:56.381731800Z"
    }
   }
  },
  {
   "cell_type": "markdown",
   "source": [
    "Although we called the function ``h`` once, we got the number of ``2``."
   ],
   "metadata": {
    "collapsed": false
   }
  },
  {
   "cell_type": "code",
   "execution_count": 11,
   "outputs": [
    {
     "data": {
      "text/plain": "[2]"
     },
     "execution_count": 11,
     "metadata": {},
     "output_type": "execute_result"
    }
   ],
   "source": [
    "num"
   ],
   "metadata": {
    "collapsed": false,
    "ExecuteTime": {
     "end_time": "2023-06-20T12:45:56.428735400Z",
     "start_time": "2023-06-20T12:45:56.397486Z"
    }
   }
  }
 ],
 "metadata": {
  "kernelspec": {
   "display_name": "Python 3",
   "language": "python",
   "name": "python3"
  },
  "language_info": {
   "codemirror_mode": {
    "name": "ipython",
    "version": 2
   },
   "file_extension": ".py",
   "mimetype": "text/x-python",
   "name": "python",
   "nbconvert_exporter": "python",
   "pygments_lexer": "ipython2",
   "version": "2.7.6"
  }
 },
 "nbformat": 4,
 "nbformat_minor": 0
}
