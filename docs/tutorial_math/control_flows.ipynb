{
 "cells": [
  {
   "cell_type": "markdown",
   "id": "254bbbf2",
   "metadata": {},
   "source": [
    "# Control Flows for JIT compilation"
   ]
  },
  {
   "cell_type": "markdown",
   "id": "355bb9b6",
   "metadata": {},
   "source": [
    "@[Chaoming Wang](https://github.com/chaoming0625)"
   ]
  },
  {
   "cell_type": "markdown",
   "source": [
    "Control flow is the core of a program, because it defines the order in which the program's code executes. The control flow of Python is regulated by *conditional statements*, *loops*, and *function calls*.\n",
    "\n",
    "\n",
    "Python has two types of control structures:\n",
    "\n",
    "- **Selection**: used for decisions and branching.\n",
    "- **Repetition**: used for looping, i.e., repeating a piece of code multiple times.\n",
    "\n",
    "\n",
    "In this section, we are going to talk about how to build effective control flows in the context of JIT compilation."
   ],
   "metadata": {
    "collapsed": false
   }
  },
  {
   "cell_type": "markdown",
   "id": "465bd161",
   "metadata": {},
   "source": []
  },
  {
   "cell_type": "code",
   "execution_count": 39,
   "id": "38a2bb50",
   "metadata": {
    "ExecuteTime": {
     "start_time": "2023-04-15T16:38:05.155597Z",
     "end_time": "2023-04-15T16:38:05.312271Z"
    }
   },
   "outputs": [],
   "source": [
    "import brainpy as bp\n",
    "import brainpy.math as bm\n",
    "\n",
    "bm.set_platform('cpu')"
   ]
  },
  {
   "cell_type": "code",
   "execution_count": 40,
   "outputs": [
    {
     "data": {
      "text/plain": "'2.4.0'"
     },
     "execution_count": 40,
     "metadata": {},
     "output_type": "execute_result"
    }
   ],
   "source": [
    "bp.__version__"
   ],
   "metadata": {
    "collapsed": false,
    "ExecuteTime": {
     "start_time": "2023-04-15T16:38:05.155597Z",
     "end_time": "2023-04-15T16:38:05.406127Z"
    }
   }
  },
  {
   "cell_type": "markdown",
   "source": [
    "## 1\\. Selection"
   ],
   "metadata": {
    "collapsed": false
   }
  },
  {
   "cell_type": "markdown",
   "source": [
    "In Python, the selection statements are also known as *Decision control statements* or *branching statements*. The selection statement allows a program to test several conditions and execute instructions based on which condition is true. The commonly used control statements include:\n",
    "\n",
    "- if-else\n",
    "- nested if\n",
    "- if-elif-else"
   ],
   "metadata": {
    "collapsed": false
   }
  },
  {
   "cell_type": "markdown",
   "source": [
    "### Non-`Variable`-based control statements"
   ],
   "metadata": {
    "collapsed": false
   }
  },
  {
   "cell_type": "markdown",
   "source": [
    "Actually, BrainPy (based on JAX) **allows to write control flows normally like your familiar Python programs, when the conditional statement depends on non-Variable instances**. For example,"
   ],
   "metadata": {
    "collapsed": false
   }
  },
  {
   "cell_type": "code",
   "execution_count": 41,
   "outputs": [],
   "source": [
    "class OddEven(bp.BrainPyObject):\n",
    "    def __init__(self, type_=1):\n",
    "        super(OddEven, self).__init__()\n",
    "        self.type_ = type_\n",
    "        self.a = bm.Variable(bm.zeros(1))\n",
    "\n",
    "    def __call__(self):\n",
    "        if self.type_ == 1:\n",
    "            self.a += 1\n",
    "        elif self.type_ == 2:\n",
    "            self.a -= 1\n",
    "        else:\n",
    "            raise ValueError(f'Unknown type: {self.type_}')\n",
    "        return self.a"
   ],
   "metadata": {
    "collapsed": false,
    "ExecuteTime": {
     "start_time": "2023-04-15T16:38:05.171325Z",
     "end_time": "2023-04-15T16:38:05.453022Z"
    }
   }
  },
  {
   "cell_type": "markdown",
   "source": [
    "In the above example, the target *statement* in ``if (statement)`` syntax relies on a scalar, which is not an instance of [brainpy.math.Variable](./arrays_and_variables.ipynb). In this case, the conditional statements can be arbitrarily complex. You can write your models with normal Python codes. These models will work very well with [JIT compilation](./jit_compilation.ipynb)."
   ],
   "metadata": {
    "collapsed": false
   }
  },
  {
   "cell_type": "code",
   "execution_count": 42,
   "outputs": [
    {
     "data": {
      "text/plain": "Variable(value=DeviceArray([1.]), dtype=float32)"
     },
     "execution_count": 42,
     "metadata": {},
     "output_type": "execute_result"
    }
   ],
   "source": [
    "model = bm.jit(OddEven(type_=1))\n",
    "\n",
    "model()"
   ],
   "metadata": {
    "collapsed": false,
    "ExecuteTime": {
     "start_time": "2023-04-15T16:38:05.186941Z",
     "end_time": "2023-04-15T16:38:05.453022Z"
    }
   }
  },
  {
   "cell_type": "code",
   "execution_count": 43,
   "outputs": [
    {
     "data": {
      "text/plain": "Variable(value=DeviceArray([-1.]), dtype=float32)"
     },
     "execution_count": 43,
     "metadata": {},
     "output_type": "execute_result"
    }
   ],
   "source": [
    "model = bm.jit(OddEven(type_=2))\n",
    "\n",
    "model()"
   ],
   "metadata": {
    "collapsed": false,
    "ExecuteTime": {
     "start_time": "2023-04-15T16:38:05.202575Z",
     "end_time": "2023-04-15T16:38:05.468528Z"
    }
   }
  },
  {
   "cell_type": "code",
   "execution_count": 44,
   "outputs": [
    {
     "name": "stdout",
     "output_type": "stream",
     "text": [
      "ValueError: Unknown type: 3\n"
     ]
    }
   ],
   "source": [
    "try:\n",
    "    model = bm.jit(OddEven(type_=3))\n",
    "    model()\n",
    "except ValueError as e:\n",
    "    print(f\"ValueError: {str(e)}\")"
   ],
   "metadata": {
    "collapsed": false,
    "ExecuteTime": {
     "start_time": "2023-04-15T16:38:05.218199Z",
     "end_time": "2023-04-15T16:38:05.499794Z"
    }
   }
  },
  {
   "cell_type": "markdown",
   "source": [
    "### `Variable`-based control statements"
   ],
   "metadata": {
    "collapsed": false
   }
  },
  {
   "cell_type": "markdown",
   "source": [
    "However, if the `statement` target in a ``if ... else ...`` syntax relies on instances of [brainpy.math.Variable](./arrays_and_variables.ipynb), writing Pythonic control flows will cause errors when using JIT compilation."
   ],
   "metadata": {
    "collapsed": false
   }
  },
  {
   "cell_type": "code",
   "execution_count": 45,
   "outputs": [],
   "source": [
    "class OddEvenCauseError(bp.BrainPyObject):\n",
    "    def __init__(self):\n",
    "        super(OddEvenCauseError, self).__init__()\n",
    "        self.rand = bm.Variable(bm.random.random(1))\n",
    "        self.a = bm.Variable(bm.zeros(1))\n",
    "\n",
    "    def __call__(self):\n",
    "        if self.rand < 0.5:  self.a += 1\n",
    "        else:  self.a -= 1\n",
    "        return self.a"
   ],
   "metadata": {
    "collapsed": false,
    "ExecuteTime": {
     "start_time": "2023-04-15T16:38:05.233820Z",
     "end_time": "2023-04-15T16:38:05.499794Z"
    }
   }
  },
  {
   "cell_type": "code",
   "execution_count": 46,
   "outputs": [
    {
     "name": "stdout",
     "output_type": "stream",
     "text": [
      "ConcretizationTypeError: Abstract tracer value encountered where concrete value is expected: Traced<ShapedArray(bool[1])>with<DynamicJaxprTrace(level=1/0)>\n",
      "The problem arose with the `bool` function. \n",
      "The error occurred while tracing the function <unknown> for eval_shape. This value became a tracer due to JAX operations on these lines:\n",
      "\n",
      "  operation a\u001B[35m:f32[]\u001B[39m = convert_element_type[new_dtype=float32 weak_type=False] b\n",
      "    from line D:\\codes\\projects\\brainpy-chaoming0625\\brainpy\\_src\\math\\ndarray.py:233 (__lt__)\n",
      "\n",
      "  operation a\u001B[35m:bool[1]\u001B[39m = lt b c\n",
      "    from line D:\\codes\\projects\\brainpy-chaoming0625\\brainpy\\_src\\math\\ndarray.py:233 (__lt__)\n",
      "\n",
      "See https://jax.readthedocs.io/en/latest/errors.html#jax.errors.ConcretizationTypeError\n"
     ]
    }
   ],
   "source": [
    "wrong_model = bm.jit(OddEvenCauseError())\n",
    "\n",
    "try:\n",
    "    wrong_model()\n",
    "except Exception as e:\n",
    "    print(f\"{e.__class__.__name__}: {str(e)}\")"
   ],
   "metadata": {
    "collapsed": false,
    "ExecuteTime": {
     "start_time": "2023-04-15T16:38:05.249454Z",
     "end_time": "2023-04-15T16:38:05.515408Z"
    }
   }
  },
  {
   "cell_type": "markdown",
   "source": [
    "To perform conditional statement on [Variable](./arrays_and_variables.ipynb) instances, we need structural control flow syntax. Specifically, BrainPy provides several options (based on JAX):\n",
    "\n",
    "- [brainpy.math.where](https://numpy.org/doc/stable/reference/generated/numpy.where.html): return element-wise conditional comparison results.\n",
    "- [brainpy.math.ifelse](../apis/auto/generated/brainpy.math.ifelse.rst): Conditional statements of `if-else`, or `if-elif-else`, ... for a scalar-typed value."
   ],
   "metadata": {
    "collapsed": false
   }
  },
  {
   "cell_type": "markdown",
   "source": [
    "### `brainpy.math.where`"
   ],
   "metadata": {
    "collapsed": false
   }
  },
  {
   "cell_type": "markdown",
   "source": [
    "``where(condition, x, y)`` function returns elements chosen from *x* or *y* depending on *condition*. It can perform well on scalars, vectors, and high-dimensional arrays."
   ],
   "metadata": {
    "collapsed": false
   }
  },
  {
   "cell_type": "code",
   "execution_count": 47,
   "outputs": [
    {
     "data": {
      "text/plain": "DeviceArray(1., dtype=float32, weak_type=True)"
     },
     "execution_count": 47,
     "metadata": {},
     "output_type": "execute_result"
    }
   ],
   "source": [
    "a = 1.\n",
    "bm.where(a < 0, 0., 1.)"
   ],
   "metadata": {
    "collapsed": false,
    "ExecuteTime": {
     "start_time": "2023-04-15T16:38:05.265081Z",
     "end_time": "2023-04-15T16:38:05.515408Z"
    }
   }
  },
  {
   "cell_type": "code",
   "execution_count": 48,
   "outputs": [
    {
     "data": {
      "text/plain": "Array(value=DeviceArray([0., 0., 0., 0., 0.]), dtype=float32)"
     },
     "execution_count": 48,
     "metadata": {},
     "output_type": "execute_result"
    }
   ],
   "source": [
    "a = bm.random.random(5)\n",
    "bm.where(a < 0.5, 0., 1.)"
   ],
   "metadata": {
    "collapsed": false,
    "ExecuteTime": {
     "start_time": "2023-04-15T16:38:05.280700Z",
     "end_time": "2023-04-15T16:38:05.515408Z"
    }
   }
  },
  {
   "cell_type": "code",
   "execution_count": 49,
   "outputs": [
    {
     "data": {
      "text/plain": "Array(value=DeviceArray([[0., 0., 0.],\n                         [1., 1., 1.],\n                         [0., 1., 1.]]),\n      dtype=float32)"
     },
     "execution_count": 49,
     "metadata": {},
     "output_type": "execute_result"
    }
   ],
   "source": [
    "a = bm.random.random((3, 3))\n",
    "bm.where(a < 0.5, 0., 1.)"
   ],
   "metadata": {
    "collapsed": false,
    "ExecuteTime": {
     "start_time": "2023-04-15T16:38:05.296331Z",
     "end_time": "2023-04-15T16:38:05.531069Z"
    }
   }
  },
  {
   "cell_type": "markdown",
   "source": [
    "For the above example, we can rewrite it by using `where` syntax as:"
   ],
   "metadata": {
    "collapsed": false
   }
  },
  {
   "cell_type": "code",
   "execution_count": 50,
   "outputs": [],
   "source": [
    "class OddEvenWhere(bp.BrainPyObject):\n",
    "    def __init__(self):\n",
    "        super(OddEvenWhere, self).__init__()\n",
    "        self.rand = bm.Variable(bm.random.random(1))\n",
    "        self.a = bm.Variable(bm.zeros(1))\n",
    "\n",
    "    def __call__(self):\n",
    "        self.a += bm.where(self.rand < 0.5, 1., -1.)\n",
    "        return self.a"
   ],
   "metadata": {
    "collapsed": false,
    "ExecuteTime": {
     "start_time": "2023-04-15T16:38:05.312271Z",
     "end_time": "2023-04-15T16:38:05.531069Z"
    }
   }
  },
  {
   "cell_type": "code",
   "execution_count": 51,
   "outputs": [
    {
     "data": {
      "text/plain": "Variable(value=DeviceArray([-1.]), dtype=float32)"
     },
     "execution_count": 51,
     "metadata": {},
     "output_type": "execute_result"
    }
   ],
   "source": [
    "model = bm.jit(OddEvenWhere())\n",
    "model()"
   ],
   "metadata": {
    "collapsed": false,
    "ExecuteTime": {
     "start_time": "2023-04-15T16:38:05.327904Z",
     "end_time": "2023-04-15T16:38:05.531069Z"
    }
   }
  },
  {
   "cell_type": "markdown",
   "source": [
    "### `brainpy.math.ifelse`"
   ],
   "metadata": {
    "collapsed": false
   }
  },
  {
   "cell_type": "markdown",
   "source": [
    "Based on JAX's control flow syntax [jax.lax.cond](https://jax.readthedocs.io/en/latest/_autosummary/jax.lax.cond.html), BrainPy provides a more general conditional statement enabling multiple branching.\n",
    "\n",
    "In its simplest case, `brainpy.math.ifelse(condition, branches, operands)` is equivalent to:\n",
    "\n",
    "```python\n",
    "def ifelse(condition, branches, operands):\n",
    "  true_fun, false_fun = branches\n",
    "  if condition:\n",
    "    return true_fun(operands)\n",
    "  else:\n",
    "    return false_fun(operands)\n",
    "```"
   ],
   "metadata": {
    "collapsed": false
   }
  },
  {
   "cell_type": "markdown",
   "source": [
    "Based on this function, we can rewrite the above example by using `cond` syntax as:"
   ],
   "metadata": {
    "collapsed": false
   }
  },
  {
   "cell_type": "code",
   "execution_count": 52,
   "outputs": [],
   "source": [
    "class OddEvenCond(bp.BrainPyObject):\n",
    "    def __init__(self):\n",
    "        super(OddEvenCond, self).__init__()\n",
    "        self.rand = bm.Variable(bm.random.random(1))\n",
    "        self.a = bm.Variable(bm.zeros(1))\n",
    "\n",
    "    def __call__(self):\n",
    "        self.a += bm.ifelse(self.rand[0] < 0.5,\n",
    "                            [lambda _: 1., lambda _: -1.])\n",
    "        return self.a"
   ],
   "metadata": {
    "collapsed": false,
    "ExecuteTime": {
     "start_time": "2023-04-15T16:38:05.359153Z",
     "end_time": "2023-04-15T16:38:05.531069Z"
    }
   }
  },
  {
   "cell_type": "code",
   "execution_count": 53,
   "outputs": [
    {
     "data": {
      "text/plain": "Variable(value=DeviceArray([-1.]), dtype=float32)"
     },
     "execution_count": 53,
     "metadata": {},
     "output_type": "execute_result"
    }
   ],
   "source": [
    "model = bm.jit(OddEvenCond())\n",
    "model()"
   ],
   "metadata": {
    "collapsed": false,
    "ExecuteTime": {
     "start_time": "2023-04-15T16:38:05.374887Z",
     "end_time": "2023-04-15T16:38:05.531069Z"
    }
   }
  },
  {
   "cell_type": "markdown",
   "source": [
    "If you want to write control flows with multiple branchings, ``brainpy.math.ifelse(conditions, branches, operands)`` can also help you accomplish this easily. Actually, multiple branching case is equivalent to:\n",
    "\n",
    "```python\n",
    "def ifelse(conditions, branches, operands):\n",
    "  pred1, pred2, ... = conditions\n",
    "  func1, func2, ..., funcN = branches\n",
    "  if pred1:\n",
    "    return func1(operands)\n",
    "  elif pred2:\n",
    "    return func2(operands)\n",
    "  ...\n",
    "  else:\n",
    "    return funcN(operands)\n",
    "```"
   ],
   "metadata": {
    "collapsed": false
   }
  },
  {
   "cell_type": "markdown",
   "source": [
    "For example, if you have the following code:\n",
    "\n",
    "```python\n",
    "def f(a):\n",
    "  if a > 10:\n",
    "    return 1.\n",
    "  elif a > 5:\n",
    "    return 2.\n",
    "  elif a > 0:\n",
    "    return 3.\n",
    "  elif a > -5:\n",
    "    return 4.\n",
    "  else:\n",
    "    return 5.\n",
    "```\n",
    "\n",
    "It can be expressed as:"
   ],
   "metadata": {
    "collapsed": false
   }
  },
  {
   "cell_type": "code",
   "execution_count": 54,
   "outputs": [],
   "source": [
    "def f(a):\n",
    "  return bm.ifelse(conditions=[a > 10, a > 5, a > 0, a > -5],\n",
    "                   branches=[1., 2., 3., 4., 5.])"
   ],
   "metadata": {
    "collapsed": false,
    "ExecuteTime": {
     "start_time": "2023-04-15T16:38:05.406127Z",
     "end_time": "2023-04-15T16:38:05.531069Z"
    }
   }
  },
  {
   "cell_type": "code",
   "execution_count": 55,
   "outputs": [
    {
     "data": {
      "text/plain": "DeviceArray(1., dtype=float32, weak_type=True)"
     },
     "execution_count": 55,
     "metadata": {},
     "output_type": "execute_result"
    }
   ],
   "source": [
    "f(11.)"
   ],
   "metadata": {
    "collapsed": false,
    "ExecuteTime": {
     "start_time": "2023-04-15T16:38:05.421764Z",
     "end_time": "2023-04-15T16:38:05.609966Z"
    }
   }
  },
  {
   "cell_type": "code",
   "execution_count": 56,
   "outputs": [
    {
     "data": {
      "text/plain": "DeviceArray(2., dtype=float32, weak_type=True)"
     },
     "execution_count": 56,
     "metadata": {},
     "output_type": "execute_result"
    }
   ],
   "source": [
    "f(6.)"
   ],
   "metadata": {
    "collapsed": false,
    "ExecuteTime": {
     "start_time": "2023-04-15T16:38:05.453022Z",
     "end_time": "2023-04-15T16:38:05.609966Z"
    }
   }
  },
  {
   "cell_type": "code",
   "execution_count": 57,
   "outputs": [
    {
     "data": {
      "text/plain": "DeviceArray(3., dtype=float32, weak_type=True)"
     },
     "execution_count": 57,
     "metadata": {},
     "output_type": "execute_result"
    }
   ],
   "source": [
    "f(1.)"
   ],
   "metadata": {
    "collapsed": false,
    "ExecuteTime": {
     "start_time": "2023-04-15T16:38:05.484259Z",
     "end_time": "2023-04-15T16:38:05.609966Z"
    }
   }
  },
  {
   "cell_type": "code",
   "execution_count": 58,
   "outputs": [
    {
     "data": {
      "text/plain": "DeviceArray(4., dtype=float32, weak_type=True)"
     },
     "execution_count": 58,
     "metadata": {},
     "output_type": "execute_result"
    }
   ],
   "source": [
    "f(-4.)"
   ],
   "metadata": {
    "collapsed": false,
    "ExecuteTime": {
     "start_time": "2023-04-15T16:38:05.515408Z",
     "end_time": "2023-04-15T16:38:05.609966Z"
    }
   }
  },
  {
   "cell_type": "code",
   "execution_count": 59,
   "outputs": [
    {
     "data": {
      "text/plain": "DeviceArray(5., dtype=float32, weak_type=True)"
     },
     "execution_count": 59,
     "metadata": {},
     "output_type": "execute_result"
    }
   ],
   "source": [
    "f(-6.)"
   ],
   "metadata": {
    "collapsed": false,
    "ExecuteTime": {
     "start_time": "2023-04-15T16:38:05.546668Z",
     "end_time": "2023-04-15T16:38:05.609966Z"
    }
   }
  },
  {
   "cell_type": "markdown",
   "source": [
    "A more complex example is:"
   ],
   "metadata": {
    "collapsed": false
   }
  },
  {
   "cell_type": "code",
   "execution_count": 60,
   "outputs": [],
   "source": [
    "def f2(a, x):\n",
    "  return bm.ifelse(conditions=[a > 10, a > 5, a > 0, a > -5],\n",
    "                   branches=[lambda x: x*2,\n",
    "                             2.,\n",
    "                             lambda x: x**2 -1,\n",
    "                             lambda x: x - 4.,\n",
    "                             5.],\n",
    "                   operands=x)"
   ],
   "metadata": {
    "collapsed": false,
    "ExecuteTime": {
     "start_time": "2023-04-15T16:38:05.577904Z",
     "end_time": "2023-04-15T16:38:05.609966Z"
    }
   }
  },
  {
   "cell_type": "code",
   "execution_count": 61,
   "outputs": [
    {
     "data": {
      "text/plain": "DeviceArray(2., dtype=float32, weak_type=True)"
     },
     "execution_count": 61,
     "metadata": {},
     "output_type": "execute_result"
    }
   ],
   "source": [
    "f2(11, 1.)"
   ],
   "metadata": {
    "collapsed": false,
    "ExecuteTime": {
     "start_time": "2023-04-15T16:38:05.593581Z",
     "end_time": "2023-04-15T16:38:05.629305Z"
    }
   }
  },
  {
   "cell_type": "code",
   "execution_count": 62,
   "outputs": [
    {
     "data": {
      "text/plain": "DeviceArray(2., dtype=float32, weak_type=True)"
     },
     "execution_count": 62,
     "metadata": {},
     "output_type": "execute_result"
    }
   ],
   "source": [
    "f2(6, 1.)"
   ],
   "metadata": {
    "collapsed": false,
    "ExecuteTime": {
     "start_time": "2023-04-15T16:38:05.628564Z",
     "end_time": "2023-04-15T16:38:05.703416Z"
    }
   }
  },
  {
   "cell_type": "code",
   "execution_count": 63,
   "outputs": [
    {
     "data": {
      "text/plain": "DeviceArray(0., dtype=float32, weak_type=True)"
     },
     "execution_count": 63,
     "metadata": {},
     "output_type": "execute_result"
    }
   ],
   "source": [
    "f2(1, 1.)"
   ],
   "metadata": {
    "collapsed": false,
    "ExecuteTime": {
     "start_time": "2023-04-15T16:38:05.656599Z",
     "end_time": "2023-04-15T16:38:05.703416Z"
    }
   }
  },
  {
   "cell_type": "code",
   "execution_count": 64,
   "outputs": [
    {
     "data": {
      "text/plain": "DeviceArray(-3., dtype=float32, weak_type=True)"
     },
     "execution_count": 64,
     "metadata": {},
     "output_type": "execute_result"
    }
   ],
   "source": [
    "f2(-4, 1.)"
   ],
   "metadata": {
    "collapsed": false,
    "ExecuteTime": {
     "start_time": "2023-04-15T16:38:05.687869Z",
     "end_time": "2023-04-15T16:38:05.750731Z"
    }
   }
  },
  {
   "cell_type": "code",
   "execution_count": 65,
   "outputs": [
    {
     "data": {
      "text/plain": "DeviceArray(5., dtype=float32, weak_type=True)"
     },
     "execution_count": 65,
     "metadata": {},
     "output_type": "execute_result"
    }
   ],
   "source": [
    "f2(-6, 1.)"
   ],
   "metadata": {
    "collapsed": false,
    "ExecuteTime": {
     "start_time": "2023-04-15T16:38:05.720975Z",
     "end_time": "2023-04-15T16:38:05.750731Z"
    }
   }
  },
  {
   "cell_type": "markdown",
   "source": [
    "If instances of `brainpy.math.Variable` are used in branching functions,"
   ],
   "metadata": {
    "collapsed": false
   }
  },
  {
   "cell_type": "code",
   "execution_count": 66,
   "outputs": [
    {
     "name": "stdout",
     "output_type": "stream",
     "text": [
      "a: Variable(value=DeviceArray([1., 1.]), dtype=float32)\n",
      "b: Variable(value=DeviceArray([0., 0.]), dtype=float32)\n"
     ]
    }
   ],
   "source": [
    "a = bm.Variable(bm.zeros(2))\n",
    "b = bm.Variable(bm.ones(2))\n",
    "def true_f(x):  a.value += 1\n",
    "def false_f(x): b.value -= 1\n",
    "\n",
    "bm.ifelse(True, [true_f, false_f])\n",
    "bm.ifelse(False, [true_f, false_f])\n",
    "\n",
    "print('a:', a)\n",
    "print('b:', b)"
   ],
   "metadata": {
    "collapsed": false,
    "ExecuteTime": {
     "start_time": "2023-04-15T16:38:05.750731Z",
     "end_time": "2023-04-15T16:38:05.813238Z"
    }
   }
  },
  {
   "cell_type": "markdown",
   "source": [
    "## 2\\. Repetition"
   ],
   "metadata": {
    "collapsed": false
   }
  },
  {
   "cell_type": "markdown",
   "source": [
    "A repetition statement is used to repeat a group(block) of programming instructions.\n",
    "\n",
    "In Python, we generally have two loops/repetitive statements:\n",
    "\n",
    "- **for loop**: Execute a set of statements once for each item in a sequence.\n",
    "- **while loop**: Execute a block of statements repeatedly until a given condition is satisfied."
   ],
   "metadata": {
    "collapsed": false
   }
  },
  {
   "cell_type": "markdown",
   "source": [
    "### Pythonic loop syntax"
   ],
   "metadata": {
    "collapsed": false
   }
  },
  {
   "cell_type": "markdown",
   "source": [
    "Actually, JAX enables to write Pythonic loops. You just need to iterate over you sequence data and then apply your logic on the iterated items. Such kind of Pythonic loop syntax can be compatible with JIT compilation, but will cause long time to trace and compile. For example,"
   ],
   "metadata": {
    "collapsed": false
   }
  },
  {
   "cell_type": "code",
   "execution_count": 67,
   "outputs": [],
   "source": [
    "class LoopSimple(bp.BrainPyObject):\n",
    "    def __init__(self):\n",
    "        super(LoopSimple, self).__init__()\n",
    "        rng = bm.random.RandomState(123)\n",
    "        self.seq = bm.Variable(rng.random(1000))\n",
    "        self.res = bm.Variable(bm.zeros(1))\n",
    "\n",
    "    def __call__(self):\n",
    "        for s in self.seq:\n",
    "            self.res += s\n",
    "        return self.res.value"
   ],
   "metadata": {
    "collapsed": false,
    "ExecuteTime": {
     "start_time": "2023-04-15T16:38:05.797597Z",
     "end_time": "2023-04-15T16:38:05.813238Z"
    }
   }
  },
  {
   "cell_type": "code",
   "execution_count": 68,
   "outputs": [],
   "source": [
    "import time\n",
    "\n",
    "def measure_time(f, return_res=False, verbose=True):\n",
    "    t0 = time.time()\n",
    "    r = f()\n",
    "    t1 = time.time()\n",
    "    if verbose:\n",
    "        print(f'Result: {r}, Time: {t1 - t0}')\n",
    "    return r if return_res else None"
   ],
   "metadata": {
    "collapsed": false,
    "ExecuteTime": {
     "start_time": "2023-04-15T16:38:05.813238Z",
     "end_time": "2023-04-15T16:38:05.828847Z"
    }
   }
  },
  {
   "cell_type": "code",
   "execution_count": 69,
   "outputs": [
    {
     "name": "stdout",
     "output_type": "stream",
     "text": [
      "Result: [501.74664], Time: 1.2315161228179932\n"
     ]
    }
   ],
   "source": [
    "model = bm.jit(LoopSimple())\n",
    "\n",
    "# First time will trigger compilation\n",
    "measure_time(model)"
   ],
   "metadata": {
    "collapsed": false,
    "ExecuteTime": {
     "start_time": "2023-04-15T16:38:05.828847Z",
     "end_time": "2023-04-15T16:38:07.076034Z"
    }
   }
  },
  {
   "cell_type": "code",
   "execution_count": 70,
   "outputs": [
    {
     "name": "stdout",
     "output_type": "stream",
     "text": [
      "Result: [1003.4931], Time: 0.0\n"
     ]
    }
   ],
   "source": [
    "# Second running\n",
    "measure_time(model)"
   ],
   "metadata": {
    "collapsed": false,
    "ExecuteTime": {
     "start_time": "2023-04-15T16:38:07.076034Z",
     "end_time": "2023-04-15T16:38:07.079694Z"
    }
   }
  },
  {
   "cell_type": "markdown",
   "source": [
    "When the model is complex and the iteration is long, the compilation during the first running will become unbearable. For such cases, you need structural loop syntax."
   ],
   "metadata": {
    "collapsed": false
   }
  },
  {
   "cell_type": "markdown",
   "source": [
    "JAX has provided several important loop syntax, including:\n",
    "- [jax.lax.fori_loop](https://jax.readthedocs.io/en/latest/_autosummary/jax.lax.fori_loop.html)\n",
    "- [jax.lax.scan](https://jax.readthedocs.io/en/latest/_autosummary/jax.lax.scan.html)\n",
    "- [jax.lax.while_loop](https://jax.readthedocs.io/en/latest/_autosummary/jax.lax.while_loop.html)\n",
    "\n",
    "BrainPy also provides its own loop syntax, which is especially suitable for the cases where users are using `brainpy.math.Variable`. Specifically, they are:\n",
    "\n",
    "- [brainpy.math.for_loop](../apis/auto/math/generated/brainpy.math.object_transform.for_loop.html)\n",
    "- [brainpy.math.while_loop](../apis/auto/math/generated/brainpy.math.object_transform.while_loop.html)\n",
    "\n",
    "In this section, we only talk about how to use our provided loop functions."
   ],
   "metadata": {
    "collapsed": false
   }
  },
  {
   "cell_type": "markdown",
   "source": [
    "### ``brainpy.math.for_loop()``"
   ],
   "metadata": {
    "collapsed": false
   }
  },
  {
   "cell_type": "markdown",
   "source": [
    "``brainpy.math.for_loop()`` is used to generate a for-loop function when you use ``Variable``.\n",
    "\n",
    "Suppose that you are using several `Variables` to implement your body function \"body\\_fun\". Sometimes the body function already returns something, and you also want to gather the returned values. With the Python syntax, it can be realized as\n",
    "\n",
    "```python\n",
    "\n",
    "def for_loop_function(body_fun, xs):\n",
    "  ys = []\n",
    "  for x in xs:\n",
    "    results = body_fun(x)\n",
    "    ys.append(results)\n",
    "  return ys\n",
    "\n",
    "```"
   ],
   "metadata": {
    "collapsed": false
   }
  },
  {
   "cell_type": "markdown",
   "source": [
    "In BrainPy, you can define this logic using ``brainpy.math.for_loop()``:\n",
    "\n",
    "```python\n",
    "import brainpy.math\n",
    "\n",
    "hist_of_out_vars = brainpy.math.for_loop(body_fun, operands)\n",
    "```"
   ],
   "metadata": {
    "collapsed": false
   }
  },
  {
   "cell_type": "markdown",
   "source": [
    "For the above example, we can rewrite it by using ``brainpy.math.for_loop`` as:"
   ],
   "metadata": {
    "collapsed": false
   }
  },
  {
   "cell_type": "code",
   "execution_count": 71,
   "outputs": [],
   "source": [
    "class LoopStruct(bp.BrainPyObject):\n",
    "    def __init__(self):\n",
    "        super(LoopStruct, self).__init__()\n",
    "        rng = bm.random.RandomState(123)\n",
    "        self.seq = rng.random(1000)\n",
    "        self.res = bm.Variable(bm.zeros(1))\n",
    "\n",
    "    def __call__(self):\n",
    "        def add(s):\n",
    "          self.res += s\n",
    "          return self.res.value\n",
    "\n",
    "        return bm.for_loop(body_fun=add, operands=self.seq)"
   ],
   "metadata": {
    "collapsed": false,
    "ExecuteTime": {
     "start_time": "2023-04-15T16:38:07.082769Z",
     "end_time": "2023-04-15T16:38:07.111211Z"
    }
   }
  },
  {
   "cell_type": "code",
   "execution_count": 72,
   "outputs": [
    {
     "data": {
      "text/plain": "(1000, 1)"
     },
     "execution_count": 72,
     "metadata": {},
     "output_type": "execute_result"
    }
   ],
   "source": [
    "model = bm.jit(LoopStruct())\n",
    "\n",
    "r = measure_time(model, verbose=False, return_res=True)\n",
    "r.shape"
   ],
   "metadata": {
    "collapsed": false,
    "ExecuteTime": {
     "start_time": "2023-04-15T16:38:07.095455Z",
     "end_time": "2023-04-15T16:38:07.126830Z"
    }
   }
  },
  {
   "cell_type": "markdown",
   "source": [
    "In essence, ``body_fun`` defines the one-step updating rule of how variables are updated. All returns of ``body_fun`` will be gathered as the history values. ``operands`` specified the inputs of the ``body_fun``. It will be looped over the fist axis."
   ],
   "metadata": {
    "collapsed": false
   }
  },
  {
   "cell_type": "markdown",
   "source": [
    "### ``brainpy.math.while_loop()``"
   ],
   "metadata": {
    "collapsed": false
   }
  },
  {
   "cell_type": "markdown",
   "source": [
    "``brainpy.math.while_loop()`` is used to generate a while-loop function when you use ``Varible``. It supports the following loop logic:\n",
    "\n",
    "```python\n",
    "\n",
    "while condition:\n",
    "    statements\n",
    "```\n",
    "\n",
    "When using ``brainpy.math.while_loop()`` , *condition* should be wrapped as a ``cond_fun`` function which returns a boolean value, and *statements* should be packed as a ``body_fun`` function which receives the old values at the latest step and returns the updated values at the current step:\n",
    "\n",
    "```python\n",
    "\n",
    "while cond_fun(x):\n",
    "    x = body_fun(x)\n",
    "```\n",
    "\n",
    "Note the difference between ``brainpy.math.for_loop`` and ``brainpy.math.while_loop``:\n",
    "\n",
    "1. The returns of ``brainpy.math.for_loop`` are the values to be gathered as the history values. While the returns of ``brainpy.math.while_loop`` should be the same shape and type with its inputs, because they are represented as the updated values.\n",
    "2. ``brainpy.math.for_loop`` can receive anything without explicit requirements of returns. But, ``brainpy.math.while_loop`` should return what it receives.\n",
    "\n",
    "A concreate example of ``brainpy.math.while_loop`` is as the follows:"
   ],
   "metadata": {
    "collapsed": false
   }
  },
  {
   "cell_type": "code",
   "execution_count": 73,
   "outputs": [
    {
     "name": "stdout",
     "output_type": "stream",
     "text": [
      "Variable(value=DeviceArray([55.]), dtype=float32) Variable(value=DeviceArray([10.]), dtype=float32)\n"
     ]
    }
   ],
   "source": [
    "i = bm.Variable(bm.zeros(1))\n",
    "counter = bm.Variable(bm.zeros(1))\n",
    "\n",
    "def cond_f():\n",
    "    return i[0] < 10\n",
    "\n",
    "def body_f():\n",
    "    i.value += 1.\n",
    "    counter.value += i\n",
    "\n",
    "bm.while_loop(body_f, cond_f, operands=())\n",
    "\n",
    "print(counter, i)"
   ],
   "metadata": {
    "collapsed": false,
    "ExecuteTime": {
     "start_time": "2023-04-15T16:38:07.126830Z",
     "end_time": "2023-04-15T16:38:07.173605Z"
    }
   }
  },
  {
   "cell_type": "markdown",
   "source": [
    "In the above example, we try to implement a sum from 0 to 10 by using two JaxArrays ``i`` and ``counter``."
   ],
   "metadata": {
    "collapsed": false
   }
  },
  {
   "cell_type": "markdown",
   "source": [
    "Or, similarly,"
   ],
   "metadata": {
    "collapsed": false
   }
  },
  {
   "cell_type": "code",
   "execution_count": 74,
   "outputs": [
    {
     "data": {
      "text/plain": "(DeviceArray(56., dtype=float32),)"
     },
     "execution_count": 74,
     "metadata": {},
     "output_type": "execute_result"
    }
   ],
   "source": [
    "i = bm.Variable(bm.zeros(1))\n",
    "\n",
    "def cond_f(counter):\n",
    "    return i[0] < 10\n",
    "\n",
    "def body_f(counter):\n",
    "    i.value += 1.\n",
    "    return counter + i[0]\n",
    "\n",
    "bm.while_loop(body_f, cond_f, operands=(1., ))"
   ],
   "metadata": {
    "collapsed": false,
    "ExecuteTime": {
     "start_time": "2023-04-15T16:38:07.157980Z",
     "end_time": "2023-04-15T16:38:07.189230Z"
    }
   }
  }
 ],
 "metadata": {
  "jupytext": {
   "main_language": "python"
  },
  "kernelspec": {
   "name": "python3",
   "language": "python",
   "display_name": "Python 3 (ipykernel)"
  },
  "language_info": {
   "codemirror_mode": {
    "name": "ipython",
    "version": 3
   },
   "file_extension": ".py",
   "mimetype": "text/x-python",
   "name": "python",
   "nbconvert_exporter": "python",
   "pygments_lexer": "ipython3",
   "version": "3.8.8"
  },
  "latex_envs": {
   "LaTeX_envs_menu_present": true,
   "autoclose": false,
   "autocomplete": true,
   "bibliofile": "biblio.bib",
   "cite_by": "apalike",
   "current_citInitial": 1,
   "eqLabelWithNumbers": true,
   "eqNumInitial": 1,
   "hotkeys": {
    "equation": "Ctrl-E",
    "itemize": "Ctrl-I"
   },
   "labels_anchors": false,
   "latex_user_defs": false,
   "report_style_numbering": false,
   "user_envs_cfg": false
  },
  "toc": {
   "base_numbering": 1,
   "nav_menu": {},
   "number_sections": false,
   "sideBar": true,
   "skip_h1_title": false,
   "title_cell": "Table of Contents",
   "title_sidebar": "Contents",
   "toc_cell": false,
   "toc_position": {
    "height": "calc(100% - 180px)",
    "left": "10px",
    "top": "150px",
    "width": "279.273px"
   },
   "toc_section_display": true,
   "toc_window_display": true
  }
 },
 "nbformat": 4,
 "nbformat_minor": 5
}
