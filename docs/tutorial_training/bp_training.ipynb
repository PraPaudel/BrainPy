{
 "cells": [
  {
   "cell_type": "markdown",
   "source": [
    "# Training with Back-propagation Algorithms"
   ],
   "metadata": {
    "collapsed": false
   }
  },
  {
   "cell_type": "markdown",
   "source": [
    "Back-propagation (BP) trainings have become foundations in machine learning algorithms. In this section, we are going to talk about how to train models with BP."
   ],
   "metadata": {
    "collapsed": false
   }
  },
  {
   "cell_type": "code",
   "execution_count": 1,
   "outputs": [
    {
     "data": {
      "text/plain": "'2.4.0'"
     },
     "execution_count": 1,
     "metadata": {},
     "output_type": "execute_result"
    }
   ],
   "source": [
    "import brainpy as bp\n",
    "import brainpy.math as bm\n",
    "import brainpy_datasets as bd\n",
    "import numpy as np\n",
    "\n",
    "bm.set_mode(bm.training_mode)\n",
    "bm.set_platform('cpu')\n",
    "\n",
    "bp.__version__"
   ],
   "metadata": {
    "collapsed": false,
    "ExecuteTime": {
     "start_time": "2023-04-15T17:19:41.886672Z",
     "end_time": "2023-04-15T17:19:42.767681Z"
    }
   }
  },
  {
   "cell_type": "markdown",
   "source": [
    "Here, we train two kinds of models to classify MNIST dataset. The first is ANN models commonly used in deep neural networks. The second is SNN models."
   ],
   "metadata": {
    "collapsed": false
   }
  },
  {
   "cell_type": "markdown",
   "source": [
    "## Train a ANN model"
   ],
   "metadata": {
    "collapsed": false
   }
  },
  {
   "cell_type": "markdown",
   "source": [
    "We first build a three layer ANN model:\n",
    "\n",
    "```bash\n",
    "\n",
    "i >> r >> o\n",
    "```\n",
    "\n",
    "where the recurrent layer ``r`` is a LSTM cell, the output ``o`` is a linear readout."
   ],
   "metadata": {
    "collapsed": false
   }
  },
  {
   "cell_type": "code",
   "execution_count": 2,
   "outputs": [],
   "source": [
    "class ANNModel(bp.DynamicalSystem):\n",
    "    def __init__(self, num_in, num_rec, num_out):\n",
    "        super(ANNModel, self).__init__()\n",
    "        self.rec = bp.layers.LSTMCell(num_in, num_rec)\n",
    "        self.out = bp.layers.Dense(num_rec, num_out)\n",
    "\n",
    "    def update(self, x):\n",
    "        return x >> self.rec >> self.out"
   ],
   "metadata": {
    "collapsed": false,
    "ExecuteTime": {
     "start_time": "2023-04-15T17:19:42.767681Z",
     "end_time": "2023-04-15T17:19:42.799139Z"
    }
   }
  },
  {
   "cell_type": "markdown",
   "source": [
    "Before training this model, we get and clean the data we want."
   ],
   "metadata": {
    "collapsed": false
   }
  },
  {
   "cell_type": "code",
   "execution_count": 3,
   "outputs": [],
   "source": [
    "root = r\"D:\\data\"\n",
    "train_dataset = bd.vision.FashionMNIST(root, split='train', download=True)\n",
    "test_dataset = bd.vision.FashionMNIST(root, split='test', download=True)\n",
    "\n",
    "\n",
    "def get_data(dataset, batch_size=256):\n",
    "  rng = bm.random.default_rng()\n",
    "\n",
    "  def data_generator():\n",
    "    X = bm.array(dataset.data, dtype=bm.float_) / 255\n",
    "    Y = bm.array(dataset.targets, dtype=bm.float_)\n",
    "    key = rng.split_key()\n",
    "    rng.shuffle(X, key=key)\n",
    "    rng.shuffle(Y, key=key)\n",
    "    for i in range(0, len(dataset), batch_size):\n",
    "      yield X[i: i + batch_size], Y[i: i + batch_size]\n",
    "\n",
    "  return data_generator"
   ],
   "metadata": {
    "collapsed": false,
    "ExecuteTime": {
     "start_time": "2023-04-15T17:19:42.783368Z",
     "end_time": "2023-04-15T17:19:43.159416Z"
    }
   }
  },
  {
   "cell_type": "markdown",
   "source": [
    "Then, we start to train our defined ANN model with ``brainpy.train.BPTT`` training interface."
   ],
   "metadata": {
    "collapsed": false
   }
  },
  {
   "cell_type": "code",
   "execution_count": 4,
   "outputs": [],
   "source": [
    "# model\n",
    "model = ANNModel(28, 100, 10)\n",
    "\n",
    "# loss function\n",
    "def loss_fun(predicts, targets):\n",
    "    predicts = bm.max(predicts, axis=1)\n",
    "    loss = bp.losses.cross_entropy_loss(predicts, targets)\n",
    "    acc = bm.mean(predicts.argmax(axis=-1) == targets)\n",
    "    return loss, {'acc': acc}\n",
    "\n",
    "# optimizer\n",
    "optimizer=bp.optim.Adam(lr=1e-3)\n",
    "\n",
    "# trainer\n",
    "trainer = bp.BPTT(model,\n",
    "                 loss_fun=loss_fun,\n",
    "                 loss_has_aux=True,\n",
    "                 optimizer=optimizer)"
   ],
   "metadata": {
    "collapsed": false,
    "ExecuteTime": {
     "start_time": "2023-04-15T17:19:42.861648Z",
     "end_time": "2023-04-15T17:19:43.483023Z"
    }
   }
  },
  {
   "cell_type": "code",
   "execution_count": 5,
   "outputs": [
    {
     "name": "stdout",
     "output_type": "stream",
     "text": [
      "Train 0 epoch, use 15.9655 s, loss 0.8331242203712463, acc 0.7072529196739197\n",
      "Test 0 epoch, use 1.5463 s, loss 0.5571460127830505, acc 0.7961569428443909\n",
      "Train 1 epoch, use 9.1526 s, loss 0.5049400925636292, acc 0.8177083730697632\n",
      "Test 1 epoch, use 0.3750 s, loss 0.502030074596405, acc 0.81787109375\n",
      "Train 2 epoch, use 9.2934 s, loss 0.46436846256256104, acc 0.8321365714073181\n",
      "Test 2 epoch, use 0.3476 s, loss 0.48068222403526306, acc 0.8233513236045837\n",
      "Train 3 epoch, use 9.0547 s, loss 0.4441152811050415, acc 0.8387909531593323\n",
      "Test 3 epoch, use 0.3461 s, loss 0.4624057412147522, acc 0.8308019638061523\n",
      "Train 4 epoch, use 9.2218 s, loss 0.42878103256225586, acc 0.8456172943115234\n",
      "Test 4 epoch, use 0.3652 s, loss 0.45214834809303284, acc 0.835742175579071\n",
      "Train 5 epoch, use 9.7000 s, loss 0.4177688956260681, acc 0.848858654499054\n",
      "Test 5 epoch, use 0.3666 s, loss 0.45152249932289124, acc 0.8364028334617615\n",
      "Train 6 epoch, use 9.5577 s, loss 0.4085409343242645, acc 0.8526595830917358\n",
      "Test 6 epoch, use 0.3286 s, loss 0.43873366713523865, acc 0.8375632166862488\n",
      "Train 7 epoch, use 8.8785 s, loss 0.4013414680957794, acc 0.8544437289237976\n",
      "Test 7 epoch, use 0.3287 s, loss 0.4337906837463379, acc 0.8435719609260559\n",
      "Train 8 epoch, use 9.0179 s, loss 0.3957517147064209, acc 0.8561835289001465\n",
      "Test 8 epoch, use 0.3286 s, loss 0.4259491562843323, acc 0.8464958071708679\n",
      "Train 9 epoch, use 8.8762 s, loss 0.389633446931839, acc 0.8590757846832275\n",
      "Test 9 epoch, use 0.3286 s, loss 0.4192558228969574, acc 0.8488511443138123\n"
     ]
    }
   ],
   "source": [
    "trainer.fit(train_data=get_data(train_dataset, 256),\n",
    "            test_data=get_data(test_dataset, 512),\n",
    "            num_epoch=10)"
   ],
   "metadata": {
    "collapsed": false,
    "ExecuteTime": {
     "start_time": "2023-04-15T17:19:43.483023Z",
     "end_time": "2023-04-15T17:21:26.989206Z"
    }
   }
  },
  {
   "cell_type": "code",
   "execution_count": 6,
   "outputs": [
    {
     "data": {
      "text/plain": "<Figure size 640x480 with 1 Axes>",
      "image/png": "[encoded data removed]"
     },
     "metadata": {},
     "output_type": "display_data"
    }
   ],
   "source": [
    "import matplotlib.pyplot as plt\n",
    "\n",
    "plt.plot(trainer.get_hist_metric('fit'), label='fit')\n",
    "plt.plot(trainer.get_hist_metric('test'), label='train')\n",
    "plt.xlabel(\"Epoch\")\n",
    "plt.ylabel(\"Loss\")\n",
    "plt.legend()\n",
    "plt.show()"
   ],
   "metadata": {
    "collapsed": false,
    "ExecuteTime": {
     "start_time": "2023-04-15T17:21:26.990238Z",
     "end_time": "2023-04-15T17:21:27.307719Z"
    }
   }
  },
  {
   "cell_type": "markdown",
   "source": [
    "## Train a SNN model"
   ],
   "metadata": {
    "collapsed": false
   }
  },
  {
   "cell_type": "markdown",
   "source": [
    "Similarly, ``brainpy.train.BPTT`` can also be used to train SNN models.\n",
    "\n",
    "We first build a three layer SNN model:\n",
    "\n",
    "```bash\n",
    "\n",
    "i >> [exponential synapse] >> r >> [exponential synapse] >> o\n",
    "```"
   ],
   "metadata": {
    "collapsed": false
   }
  },
  {
   "cell_type": "code",
   "execution_count": 7,
   "outputs": [],
   "source": [
    "class SNNModel(bp.DynamicalSystem):\n",
    "  def __init__(self, num_in, num_rec, num_out):\n",
    "    super(SNNModel, self).__init__()\n",
    "\n",
    "    # parameters\n",
    "    self.num_in = num_in\n",
    "    self.num_rec = num_rec\n",
    "    self.num_out = num_out\n",
    "\n",
    "    # neuron groups\n",
    "    self.i = bp.neurons.InputGroup(num_in)\n",
    "    self.r = bp.neurons.LIF(num_rec, tau=10, V_reset=0, V_rest=0, V_th=1.)\n",
    "    self.o = bp.neurons.LeakyIntegrator(num_out, tau=5)\n",
    "\n",
    "    # synapse: i->r\n",
    "    self.i2r = bp.synapses.Exponential(self.i, self.r, bp.conn.All2All(),\n",
    "                                       output=bp.synouts.CUBA(),\n",
    "                                       tau=10.,\n",
    "                                       g_max=bp.init.KaimingNormal(scale=2.))\n",
    "    # synapse: r->o\n",
    "    self.r2o = bp.synapses.Exponential(self.r, self.o, bp.conn.All2All(),\n",
    "                                       output=bp.synouts.CUBA(),\n",
    "                                       tau=10.,\n",
    "                                       g_max=bp.init.KaimingNormal(scale=2.))\n",
    "\n",
    "  def update(self, spike):\n",
    "    self.i2r(spike)\n",
    "    self.r2o()\n",
    "    self.r()\n",
    "    self.o()\n",
    "    return self.o.V.value"
   ],
   "metadata": {
    "collapsed": false,
    "ExecuteTime": {
     "start_time": "2023-04-15T17:21:27.307719Z",
     "end_time": "2023-04-15T17:21:27.323515Z"
    }
   }
  },
  {
   "cell_type": "markdown",
   "source": [
    "As the model receives spiking inputs, we define functions that are necessary to transform the continuous values to spiking data."
   ],
   "metadata": {
    "collapsed": false
   }
  },
  {
   "cell_type": "code",
   "execution_count": 8,
   "outputs": [],
   "source": [
    "def current2firing_time(x, tau=20., thr=0.2, tmax=1.0, epsilon=1e-7):\n",
    "  x = np.clip(x, thr + epsilon, 1e9)\n",
    "  T = tau * np.log(x / (x - thr))\n",
    "  T = np.where(x < thr, tmax, T)\n",
    "  return T\n",
    "\n",
    "def sparse_data_generator(X, y, batch_size, nb_steps, nb_units, shuffle=True):\n",
    "  labels_ = np.array(y, dtype=bm.int_)\n",
    "  sample_index = np.arange(len(X))\n",
    "\n",
    "  # compute discrete firing times\n",
    "  tau_eff = 2. / bm.get_dt()\n",
    "  unit_numbers = np.arange(nb_units)\n",
    "  firing_times = np.array(current2firing_time(X, tau=tau_eff, tmax=nb_steps), dtype=bm.int_)\n",
    "\n",
    "  if shuffle:\n",
    "    np.random.shuffle(sample_index)\n",
    "\n",
    "  counter = 0\n",
    "  number_of_batches = len(X) // batch_size\n",
    "  while counter < number_of_batches:\n",
    "    batch_index = sample_index[batch_size * counter:batch_size * (counter + 1)]\n",
    "    all_batch, all_times, all_units = [], [], []\n",
    "    for bc, idx in enumerate(batch_index):\n",
    "      c = firing_times[idx] < nb_steps\n",
    "      times, units = firing_times[idx][c], unit_numbers[c]\n",
    "      batch = bc * np.ones(len(times), dtype=bm.int_)\n",
    "      all_batch.append(batch)\n",
    "      all_times.append(times)\n",
    "      all_units.append(units)\n",
    "    all_batch = np.concatenate(all_batch).flatten()\n",
    "    all_times = np.concatenate(all_times).flatten()\n",
    "    all_units = np.concatenate(all_units).flatten()\n",
    "    x_batch = bm.zeros((batch_size, nb_steps, nb_units))\n",
    "    x_batch[all_batch, all_times, all_units] = 1.\n",
    "    y_batch = bm.asarray(labels_[batch_index])\n",
    "    yield x_batch, y_batch\n",
    "    counter += 1"
   ],
   "metadata": {
    "collapsed": false,
    "ExecuteTime": {
     "start_time": "2023-04-15T17:21:27.323515Z",
     "end_time": "2023-04-15T17:21:27.354804Z"
    }
   }
  },
  {
   "cell_type": "markdown",
   "source": [
    "Now, we can define a BP trainer for this SNN model."
   ],
   "metadata": {
    "collapsed": false
   }
  },
  {
   "cell_type": "code",
   "execution_count": 9,
   "outputs": [],
   "source": [
    "def loss_fun(predicts, targets):\n",
    "    predicts, mon = predicts\n",
    "    # L1 loss on total number of spikes\n",
    "    l1_loss = 1e-5 * bm.sum(mon['r.spike'])\n",
    "    # L2 loss on spikes per neuron\n",
    "    l2_loss = 1e-5 * bm.mean(bm.sum(bm.sum(mon['r.spike'], axis=0), axis=0) ** 2)\n",
    "    # predictions\n",
    "    predicts = bm.max(predicts, axis=1)\n",
    "    loss = bp.losses.cross_entropy_loss(predicts, targets)\n",
    "    acc = bm.mean(predicts.argmax(-1) == targets)\n",
    "    return loss + l2_loss + l1_loss, {'acc': acc}\n",
    "\n",
    "model = SNNModel(num_in=28*28, num_rec=100, num_out=10)\n",
    "\n",
    "trainer = bp.BPTT(\n",
    "    model,\n",
    "    loss_fun=loss_fun,\n",
    "    loss_has_aux=True,\n",
    "    optimizer=bp.optim.Adam(lr=1e-3),\n",
    "    monitors={'r.spike': model.r.spike},\n",
    ")"
   ],
   "metadata": {
    "collapsed": false,
    "ExecuteTime": {
     "start_time": "2023-04-15T17:21:27.339329Z",
     "end_time": "2023-04-15T17:21:27.511189Z"
    }
   }
  },
  {
   "cell_type": "markdown",
   "source": [
    "The training process is similar to that of the ANN model, instead of the data is generated by the sparse generator function we defined above."
   ],
   "metadata": {
    "collapsed": false
   }
  },
  {
   "cell_type": "code",
   "execution_count": 10,
   "outputs": [
    {
     "name": "stdout",
     "output_type": "stream",
     "text": [
      "Train 0 epoch, use 49.9356 s, loss 13.577051162719727, acc 0.3795405924320221\n",
      "Train 1 epoch, use 53.5827 s, loss 1.9439359903335571, acc 0.5677751302719116\n",
      "Train 2 epoch, use 50.4796 s, loss 1.6432150602340698, acc 0.5903278589248657\n",
      "Train 3 epoch, use 52.2995 s, loss 1.4753005504608154, acc 0.6055355072021484\n",
      "Train 4 epoch, use 54.8472 s, loss 1.3759807348251343, acc 0.6247329115867615\n",
      "Train 5 epoch, use 59.3077 s, loss 1.3128257989883423, acc 0.6393396258354187\n",
      "Train 6 epoch, use 54.3296 s, loss 1.2489423751831055, acc 0.6562833786010742\n",
      "Train 7 epoch, use 53.8313 s, loss 1.2068374156951904, acc 0.6707565188407898\n",
      "Train 8 epoch, use 58.7923 s, loss 1.163095474243164, acc 0.6782184839248657\n",
      "Train 9 epoch, use 56.4727 s, loss 1.1365898847579956, acc 0.6831930875778198\n"
     ]
    }
   ],
   "source": [
    "x_train = bm.array(train_dataset.data, dtype=bm.float_) / 255\n",
    "y_train = bm.array(train_dataset.targets, dtype=bm.int_)\n",
    "\n",
    "trainer.fit(lambda: sparse_data_generator(x_train.reshape(x_train.shape[0], -1),\n",
    "                                          y_train,\n",
    "                                          batch_size=256,\n",
    "                                          nb_steps=100,\n",
    "                                          nb_units=28 * 28),\n",
    "            num_epoch=10)"
   ],
   "metadata": {
    "collapsed": false,
    "ExecuteTime": {
     "start_time": "2023-04-15T17:21:27.511189Z",
     "end_time": "2023-04-15T17:30:31.500554Z"
    }
   }
  },
  {
   "cell_type": "code",
   "execution_count": 11,
   "outputs": [
    {
     "data": {
      "text/plain": "<Figure size 640x480 with 1 Axes>",
      "image/png": "[encoded data removed]"
     },
     "metadata": {},
     "output_type": "display_data"
    }
   ],
   "source": [
    "plt.plot(trainer.get_hist_metric('fit'), label='fit')\n",
    "plt.xlabel(\"Epoch\")\n",
    "plt.ylabel(\"Loss\")\n",
    "plt.legend()\n",
    "plt.show()"
   ],
   "metadata": {
    "collapsed": false,
    "ExecuteTime": {
     "start_time": "2023-04-15T17:30:31.500554Z",
     "end_time": "2023-04-15T17:30:31.563414Z"
    }
   }
  },
  {
   "cell_type": "markdown",
   "source": [
    "## Customize your BP training"
   ],
   "metadata": {
    "collapsed": false
   }
  },
  {
   "cell_type": "markdown",
   "source": [
    "Actually, ``brainpy.train.BPTT`` is just one way to perform back-propagation training with your model. You can easily customize your training process.\n",
    "\n",
    "In the below, we demonstrate how to define a BP training process by hand with the above ANN model."
   ],
   "metadata": {
    "collapsed": false
   },
   "execution_count": 25
  },
  {
   "cell_type": "code",
   "execution_count": 12,
   "outputs": [],
   "source": [
    "# packages we need\n",
    "\n",
    "from time import time"
   ],
   "metadata": {
    "collapsed": false,
    "ExecuteTime": {
     "start_time": "2023-04-15T17:30:31.563414Z",
     "end_time": "2023-04-15T17:30:31.579050Z"
    }
   }
  },
  {
   "cell_type": "code",
   "execution_count": 13,
   "outputs": [],
   "source": [
    "# define the model\n",
    "model = ANNModel(28, 100, 10)"
   ],
   "metadata": {
    "collapsed": false,
    "ExecuteTime": {
     "start_time": "2023-04-15T17:30:31.579050Z",
     "end_time": "2023-04-15T17:30:31.657612Z"
    }
   }
  },
  {
   "cell_type": "code",
   "execution_count": 14,
   "outputs": [],
   "source": [
    "# define the loss function\n",
    "def loss_fun(inputs, targets):\n",
    "  runner = bp.DSTrainer(model, progress_bar=False, numpy_mon_after_run=False)\n",
    "  predicts = runner.predict(inputs, reset_state=True)\n",
    "  predicts = bm.max(predicts, axis=1)\n",
    "  loss = bp.losses.cross_entropy_loss(predicts, targets)\n",
    "  acc = bm.mean(predicts.argmax(-1) == targets)\n",
    "  return loss, acc"
   ],
   "metadata": {
    "collapsed": false,
    "ExecuteTime": {
     "start_time": "2023-04-15T17:30:31.657612Z",
     "end_time": "2023-04-15T17:30:31.675404Z"
    }
   }
  },
  {
   "cell_type": "code",
   "execution_count": 15,
   "outputs": [],
   "source": [
    "# define the gradient function which computes the\n",
    "# gradients of the trainable weights\n",
    "grad_fun = bm.grad(loss_fun,\n",
    "                   grad_vars=model.train_vars().unique(),\n",
    "                   has_aux=True,\n",
    "                   return_value=True)"
   ],
   "metadata": {
    "collapsed": false,
    "ExecuteTime": {
     "start_time": "2023-04-15T17:30:31.675404Z",
     "end_time": "2023-04-15T17:30:31.706738Z"
    }
   }
  },
  {
   "cell_type": "code",
   "execution_count": 16,
   "outputs": [],
   "source": [
    "# define the optimizer we need\n",
    "opt = bp.optim.Adam(lr=1e-3, train_vars=model.train_vars().unique())"
   ],
   "metadata": {
    "collapsed": false,
    "ExecuteTime": {
     "start_time": "2023-04-15T17:30:31.706738Z",
     "end_time": "2023-04-15T17:30:31.859345Z"
    }
   }
  },
  {
   "cell_type": "code",
   "execution_count": 17,
   "outputs": [],
   "source": [
    "# training function\n",
    "\n",
    "@bm.jit\n",
    "def train(xs, ys):\n",
    "  grads, loss, acc = grad_fun(xs, ys)\n",
    "  opt.update(grads)\n",
    "  return loss, acc"
   ],
   "metadata": {
    "collapsed": false,
    "ExecuteTime": {
     "start_time": "2023-04-15T17:30:31.770882Z",
     "end_time": "2023-04-15T17:30:31.859345Z"
    }
   }
  },
  {
   "cell_type": "code",
   "execution_count": 18,
   "outputs": [
    {
     "name": "stdout",
     "output_type": "stream",
     "text": [
      "Step 100, Used 10.7392 s, Loss 0.9717, Acc 0.6601\n",
      "Step 200, Used 8.6341 s, Loss 0.5624, Acc 0.7991\n",
      "Step 300, Used 7.8616 s, Loss 0.5135, Acc 0.8158\n",
      "Step 400, Used 5.1792 s, Loss 0.4775, Acc 0.8266\n",
      "Step 500, Used 5.1241 s, Loss 0.4563, Acc 0.8346\n",
      "Step 600, Used 5.5137 s, Loss 0.4494, Acc 0.8342\n",
      "Step 700, Used 5.1346 s, Loss 0.4356, Acc 0.8417\n",
      "Step 800, Used 5.2631 s, Loss 0.4338, Acc 0.8414\n",
      "Step 900, Used 5.3202 s, Loss 0.4043, Acc 0.8520\n",
      "Step 1000, Used 5.2687 s, Loss 0.4055, Acc 0.8528\n",
      "Step 1100, Used 5.9954 s, Loss 0.4005, Acc 0.8543\n",
      "Step 1200, Used 5.9213 s, Loss 0.3982, Acc 0.8542\n",
      "Step 1300, Used 6.0832 s, Loss 0.3845, Acc 0.8595\n",
      "Step 1400, Used 5.5973 s, Loss 0.3902, Acc 0.8575\n",
      "Step 1500, Used 5.5119 s, Loss 0.3781, Acc 0.8624\n",
      "Step 1600, Used 5.4341 s, Loss 0.3743, Acc 0.8632\n",
      "Step 1700, Used 5.5067 s, Loss 0.3764, Acc 0.8626\n",
      "Step 1800, Used 5.6223 s, Loss 0.3689, Acc 0.8645\n",
      "Step 1900, Used 5.4748 s, Loss 0.3648, Acc 0.8672\n",
      "Step 2000, Used 5.2963 s, Loss 0.3683, Acc 0.8674\n",
      "Step 2100, Used 5.4844 s, Loss 0.3571, Acc 0.8699\n",
      "Step 2200, Used 5.7304 s, Loss 0.3518, Acc 0.8726\n",
      "Step 2300, Used 5.0767 s, Loss 0.3588, Acc 0.8666\n"
     ]
    }
   ],
   "source": [
    "# start training\n",
    "\n",
    "k = 0\n",
    "num_batch = 256\n",
    "running_loss = 0\n",
    "running_acc = 0\n",
    "print_step = 100\n",
    "X_train = bm.asarray(x_train)\n",
    "Y_train = bm.asarray(y_train)\n",
    "t0 = time()\n",
    "for _ in range(10):  # number of epoch\n",
    "  X_train = bm.random.permutation(X_train, key=123)\n",
    "  Y_train = bm.random.permutation(Y_train, key=123)\n",
    "\n",
    "  for i in range(0, X_train.shape[0], num_batch):\n",
    "    X = X_train[i: i + num_batch]\n",
    "    Y = Y_train[i: i + num_batch]\n",
    "    loss_, acc_ = train(X, Y)\n",
    "    running_loss += loss_\n",
    "    running_acc += acc_\n",
    "    k += 1\n",
    "    if k % print_step == 0:\n",
    "      print('Step {}, Used {:.4f} s, Loss {:0.4f}, Acc {:0.4f}'.format(\n",
    "        k, time() - t0,  running_loss / print_step, running_acc / print_step)\n",
    "      )\n",
    "      t0 = time()\n",
    "      running_loss = 0\n",
    "      running_acc = 0"
   ],
   "metadata": {
    "collapsed": false,
    "ExecuteTime": {
     "start_time": "2023-04-15T17:30:31.785862Z",
     "end_time": "2023-04-15T17:32:51.154177Z"
    }
   }
  }
 ],
 "metadata": {
  "kernelspec": {
   "display_name": "Python 3",
   "language": "python",
   "name": "python3"
  },
  "language_info": {
   "codemirror_mode": {
    "name": "ipython",
    "version": 2
   },
   "file_extension": ".py",
   "mimetype": "text/x-python",
   "name": "python",
   "nbconvert_exporter": "python",
   "pygments_lexer": "ipython2",
   "version": "2.7.6"
  }
 },
 "nbformat": 4,
 "nbformat_minor": 0
}
